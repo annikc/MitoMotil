{
 "cells": [
  {
   "cell_type": "markdown",
   "metadata": {},
   "source": [
    "# Walkthrough Tutorial of Mitochondrial Motility Code\n",
    "\n",
    "This notebook is meant as a starting point for an interested reader to familiarize themselves with the code used in our paper [Activity-dependent regulation of mitochondrial motility in developing cortical dendrites](https://elifesciences.org/articles/62091). \n",
    "\n",
    "This notebook touches on the main points of interest in this code used to model stopping times of mitochondria in response to synaptic activity. In particular, we show the functions used to generate:\n",
    "\n",
    "- Spike train data drawn at different frequencies (visualized with raster plots)\n",
    "- Populations of mitochondria with unique stopping & recovery times drawn from a normal distribution (visualized by histograms of stopping times for the given population of mitochondria and lineplots of the percentage of motile mitochondria during the period of synaptic activity)\n",
    "- Dose response curves to determine which paradigm most closely parallels the behaviour of mitochondria observed experimentally "
   ]
  },
  {
   "cell_type": "code",
   "execution_count": 7,
   "metadata": {},
   "outputs": [],
   "source": [
    "# import necessary packages \n",
    "import numpy as np \n",
    "from elephant.spike_train_generation import homogeneous_poisson_process\n",
    "from quantities import Hz, s, ms\n",
    "\n",
    "import functions as F\n",
    "import plotting as pt\n"
   ]
  },
  {
   "cell_type": "code",
   "execution_count": 8,
   "metadata": {},
   "outputs": [],
   "source": [
    "# set parameters -- for experimentation default parameters are set in util.py\n",
    "dend_L      = 70\n",
    "event_range = [1,2]                                 # um affected by synaptic events\n",
    "event_min   = event_range[0]/dend_L                 # min percentage of dendrite affected by synaptic event\n",
    "event_max   = event_range[1]/dend_L                 # max percentage of dendrite affected by synaptic event\n",
    "event_mean  = event_min + (event_max - event_min)/2 # mean percentage of dendrite affected by synaptic event\n",
    "event_sd    = (event_max - event_mean)/3   \n",
    "\n",
    "density \t= 1/4\n",
    "mito_pop \t= 500\n",
    "MM_pct_init = 1\n",
    "\n",
    "days \t\t= 5\n",
    "day_seconds = 1500 \n",
    "\n",
    "event_hz \t= [0.001, 0.012, 0.035, 0.058, 0.081, 0.104, 0.127, 0.15, 0.25, 0.35, 0.5]\n",
    "recov_means = np.array([1,2,3,4,5,6,7,8,9,10,15,20,25])*60\n",
    "recov_sd \t= 2.5*60\n",
    "\n",
    "params_dict = {'day_seconds':  day_seconds,\n",
    "\t\t\t\t'days':        days,\n",
    "\t\t\t\t'density':     density,      # density of mitochondria (number/um)\n",
    "\t\t\t\t'dend_L':      dend_L,       # length of dendrite (um)\n",
    "\t\t\t\t'event_range': event_range,  # um affected by synaptic events\n",
    "\t\t\t\t'event_min':   event_min,    # min percentage of dendrite affected by synaptic event\n",
    "\t\t\t\t'event_max':   event_max,    # max percentage of dendrite affected by synaptic event\n",
    "\t\t\t\t'event_mean':  event_mean,   # mean percentage of dendrite affected by synaptic event\n",
    "\t\t\t\t'event_sd':    event_sd,     # 99% of distr covered by 3sd\n",
    "\t\t\t\t'mito_pop':    mito_pop,     # number of mitochondria in population\n",
    "\t\t\t\t'MM_pct_init': MM_pct_init,  # proportion of mobile mitochondria at t = 0\n",
    "\t\t\t\t'recov_means': recov_means,  # Mean of recovery times for normally distributed mitos\n",
    "\t\t\t\t'recov_sd':    recov_sd,     # standard deviation of recovery times for mitos\n",
    "\t\t\t\t'event_hz':    event_hz      # frequency of synaptic events\n",
    "}\n",
    "\n",
    "# params for simulations\n",
    "num_runs = 10"
   ]
  },
  {
   "cell_type": "markdown",
   "metadata": {},
   "source": [
    "## Example Spike Trains and Raster Plots"
   ]
  },
  {
   "cell_type": "code",
   "execution_count": 9,
   "metadata": {},
   "outputs": [
    {
     "data": {
      "image/png": "[encoded data removed]",
      "text/plain": [
       "<Figure size 432x288 with 1 Axes>"
      ]
     },
     "metadata": {
      "needs_background": "light"
     },
     "output_type": "display_data"
    }
   ],
   "source": [
    "example_event_hz = [0.025, 0.05, 0.1]\n",
    "\n",
    "spiketrain_list = F.get_spike_trains(num_runs, example_event_hz)\n",
    "pt.plot_spike_raster(spiketrain_list, day_seconds, example_event_hz)"
   ]
  },
  {
   "cell_type": "markdown",
   "metadata": {},
   "source": [
    "## Generating Population of Mitochondria"
   ]
  },
  {
   "cell_type": "code",
   "execution_count": null,
   "metadata": {},
   "outputs": [],
   "source": []
  },
  {
   "cell_type": "markdown",
   "metadata": {},
   "source": [
    "### Example Mitochondrial Stopping Times"
   ]
  },
  {
   "cell_type": "code",
   "execution_count": null,
   "metadata": {},
   "outputs": [],
   "source": []
  },
  {
   "cell_type": "markdown",
   "metadata": {},
   "source": [
    "### Example Mitochondrial Recovery Times"
   ]
  },
  {
   "cell_type": "code",
   "execution_count": null,
   "metadata": {},
   "outputs": [],
   "source": []
  },
  {
   "cell_type": "markdown",
   "metadata": {},
   "source": [
    "## Variation on Mean Stopping Times in Response to Differential Spike Frequency"
   ]
  },
  {
   "cell_type": "code",
   "execution_count": null,
   "metadata": {},
   "outputs": [],
   "source": []
  }
 ],
 "metadata": {
  "kernelspec": {
   "display_name": "Python 3",
   "language": "python",
   "name": "python3"
  },
  "language_info": {
   "codemirror_mode": {
    "name": "ipython",
    "version": 3
   },
   "file_extension": ".py",
   "mimetype": "text/x-python",
   "name": "python",
   "nbconvert_exporter": "python",
   "pygments_lexer": "ipython3",
   "version": "3.8.10"
  }
 },
 "nbformat": 4,
 "nbformat_minor": 4
}
